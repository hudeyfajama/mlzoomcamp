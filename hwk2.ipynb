{
 "cells": [
  {
   "cell_type": "code",
   "execution_count": 622,
   "id": "318aca39",
   "metadata": {},
   "outputs": [],
   "source": [
    "import pandas as pd\n",
    "import numpy as np\n",
    "import seaborn as sns\n",
    "import matplotlib.pyplot as plt\n",
    "%matplotlib inline"
   ]
  },
  {
   "cell_type": "code",
   "execution_count": 623,
   "id": "43ec3fe5",
   "metadata": {},
   "outputs": [
    {
     "name": "stdout",
     "output_type": "stream",
     "text": [
      "(9704, 5)\n"
     ]
    },
    {
     "data": {
      "text/html": [
       "<div>\n",
       "<style scoped>\n",
       "    .dataframe tbody tr th:only-of-type {\n",
       "        vertical-align: middle;\n",
       "    }\n",
       "\n",
       "    .dataframe tbody tr th {\n",
       "        vertical-align: top;\n",
       "    }\n",
       "\n",
       "    .dataframe thead th {\n",
       "        text-align: right;\n",
       "    }\n",
       "</style>\n",
       "<table border=\"1\" class=\"dataframe\">\n",
       "  <thead>\n",
       "    <tr style=\"text-align: right;\">\n",
       "      <th></th>\n",
       "      <th>engine_displacement</th>\n",
       "      <th>horsepower</th>\n",
       "      <th>vehicle_weight</th>\n",
       "      <th>model_year</th>\n",
       "      <th>fuel_efficiency_mpg</th>\n",
       "    </tr>\n",
       "  </thead>\n",
       "  <tbody>\n",
       "    <tr>\n",
       "      <th>0</th>\n",
       "      <td>170</td>\n",
       "      <td>159.0</td>\n",
       "      <td>3413.433759</td>\n",
       "      <td>2003</td>\n",
       "      <td>13.231729</td>\n",
       "    </tr>\n",
       "    <tr>\n",
       "      <th>1</th>\n",
       "      <td>130</td>\n",
       "      <td>97.0</td>\n",
       "      <td>3149.664934</td>\n",
       "      <td>2007</td>\n",
       "      <td>13.688217</td>\n",
       "    </tr>\n",
       "    <tr>\n",
       "      <th>2</th>\n",
       "      <td>170</td>\n",
       "      <td>78.0</td>\n",
       "      <td>3079.038997</td>\n",
       "      <td>2018</td>\n",
       "      <td>14.246341</td>\n",
       "    </tr>\n",
       "    <tr>\n",
       "      <th>3</th>\n",
       "      <td>220</td>\n",
       "      <td>NaN</td>\n",
       "      <td>2542.392402</td>\n",
       "      <td>2009</td>\n",
       "      <td>16.912736</td>\n",
       "    </tr>\n",
       "    <tr>\n",
       "      <th>4</th>\n",
       "      <td>210</td>\n",
       "      <td>140.0</td>\n",
       "      <td>3460.870990</td>\n",
       "      <td>2009</td>\n",
       "      <td>12.488369</td>\n",
       "    </tr>\n",
       "  </tbody>\n",
       "</table>\n",
       "</div>"
      ],
      "text/plain": [
       "   engine_displacement  horsepower  vehicle_weight  model_year  \\\n",
       "0                  170       159.0     3413.433759        2003   \n",
       "1                  130        97.0     3149.664934        2007   \n",
       "2                  170        78.0     3079.038997        2018   \n",
       "3                  220         NaN     2542.392402        2009   \n",
       "4                  210       140.0     3460.870990        2009   \n",
       "\n",
       "   fuel_efficiency_mpg  \n",
       "0            13.231729  \n",
       "1            13.688217  \n",
       "2            14.246341  \n",
       "3            16.912736  \n",
       "4            12.488369  "
      ]
     },
     "execution_count": 623,
     "metadata": {},
     "output_type": "execute_result"
    }
   ],
   "source": [
    "df = pd.read_csv('https://raw.githubusercontent.com/alexeygrigorev/datasets/master/car_fuel_efficiency.csv')\n",
    "\n",
    "def prepare_df(df):\n",
    "    df = df[['engine_displacement','horsepower','vehicle_weight','model_year','fuel_efficiency_mpg']]\n",
    "    return df\n",
    "\n",
    "df = prepare_df(df)\n",
    "print(df.shape)\n",
    "df.head()"
   ]
  },
  {
   "cell_type": "code",
   "execution_count": 624,
   "id": "8c73c649",
   "metadata": {},
   "outputs": [
    {
     "data": {
      "text/plain": [
       "<Axes: xlabel='fuel_efficiency_mpg', ylabel='Count'>"
      ]
     },
     "execution_count": 624,
     "metadata": {},
     "output_type": "execute_result"
    },
    {
     "data": {
      "image/png": "[encoded data removed]",
      "text/plain": [
       "<Figure size 640x480 with 1 Axes>"
      ]
     },
     "metadata": {},
     "output_type": "display_data"
    }
   ],
   "source": [
    "sns.histplot(df.fuel_efficiency_mpg, bins=50)"
   ]
  },
  {
   "cell_type": "code",
   "execution_count": 625,
   "id": "75679912",
   "metadata": {},
   "outputs": [
    {
     "data": {
      "text/plain": [
       "engine_displacement      0\n",
       "horsepower             708\n",
       "vehicle_weight           0\n",
       "model_year               0\n",
       "fuel_efficiency_mpg      0\n",
       "dtype: int64"
      ]
     },
     "execution_count": 625,
     "metadata": {},
     "output_type": "execute_result"
    }
   ],
   "source": [
    "# Q1. Find column with missing values\n",
    "df.isnull().sum()"
   ]
  },
  {
   "cell_type": "code",
   "execution_count": 626,
   "id": "0e6b7aa1",
   "metadata": {},
   "outputs": [
    {
     "data": {
      "text/plain": [
       "np.float64(149.0)"
      ]
     },
     "execution_count": 626,
     "metadata": {},
     "output_type": "execute_result"
    }
   ],
   "source": [
    "# Q2. What's the median (50% percentile) for variable 'horsepower'?\n",
    "df['horsepower'].median()"
   ]
  },
  {
   "cell_type": "code",
   "execution_count": 627,
   "id": "f78b9a58",
   "metadata": {},
   "outputs": [],
   "source": [
    "# Q3. Find best RMSE for filling use 0 or mean\n",
    "\n",
    "def split(df, seed: int=42):\n",
    "\n",
    "    n = df.shape[0]\n",
    "\n",
    "    # 60/20/20 split\n",
    "    n_val = int(n*0.2)\n",
    "    n_test = int(n*0.2)\n",
    "    n_train = n - n_val - n_test\n",
    "\n",
    "    idx = np.arange(n)\n",
    "\n",
    "    np.random.seed(seed)\n",
    "    np.random.shuffle(idx)\n",
    "\n",
    "    df_train = df.iloc[idx[:n_train]]\n",
    "    df_val = df.iloc[idx[n_train:n_train+n_val]]\n",
    "    df_test = df.iloc[idx[n_train+n_val:]]\n",
    "\n",
    "    return df_train,df_val,df_test\n"
   ]
  },
  {
   "cell_type": "code",
   "execution_count": 628,
   "id": "1761942d",
   "metadata": {},
   "outputs": [],
   "source": [
    "df_train, df_val, df_test = split(df)\n",
    "\n",
    "# Fill with zeros\n",
    "df_zero_train, df_zero_val, df_zero_test = [df.fillna(0) for df in (df_train, df_val, df_test)]\n",
    "\n",
    "# Fill with mean from training set\n",
    "mean = df_train.mean()\n",
    "df_mean_train, df_mean_val, df_mean_test = [df.fillna(mean) for df in (df_train, df_val, df_test)]\n"
   ]
  },
  {
   "cell_type": "code",
   "execution_count": 629,
   "id": "6579542e",
   "metadata": {},
   "outputs": [],
   "source": [
    "def train_linear_regression(df, target: str='fuel_efficiency_mpg'):\n",
    "    X = df.drop(columns=[target]).values\n",
    "    y = df[target].values\n",
    "\n",
    "    ones = np.ones(X.shape[0])\n",
    "    X = np.column_stack([ones, X])\n",
    "\n",
    "    XTX = X.T.dot(X)\n",
    "    XTX_inv = np.linalg.inv(XTX)\n",
    "\n",
    "    # W = (Xᵀ  · X)⁻¹ · Xᵀ  · y\n",
    "    w_full = XTX_inv.dot(X.T).dot(y) \n",
    "    return w_full[0], w_full[1:]\n",
    "\n",
    "def pred(w0, w, df, target: str='fuel_efficiency_mpg'):\n",
    "    X = df.drop(columns=[target]).values\n",
    "    y_pred = w0 + X.dot(w)\n",
    "    return y_pred\n",
    "\n",
    "def rmse(y_actual, y_pred):\n",
    "    # RMSE = √( 1/m * ∑( (g(Xᵢ) - yᵢ)²\t , i=[1,m] ) )\n",
    "    se = (y_actual - y_pred) ** 2\n",
    "    mse = se.mean()\n",
    "    return np.sqrt(mse)\n"
   ]
  },
  {
   "cell_type": "code",
   "execution_count": 630,
   "id": "02ff7d42",
   "metadata": {},
   "outputs": [
    {
     "name": "stdout",
     "output_type": "stream",
     "text": [
      "Zero Fill: 0.52\n",
      "Mean Fill: 0.46\n"
     ]
    }
   ],
   "source": [
    "  for name, df_train, df_val in [('Zero Fill', df_zero_train, df_zero_val),\n",
    "                                  ('Mean Fill', df_mean_train, df_mean_val)]:\n",
    "      w0, w = train_linear_regression(df_train)\n",
    "      y_val = df_val['fuel_efficiency_mpg'].values\n",
    "      y_pred = pred(w0, w, df_val)\n",
    "      print(f'{name}: {round(rmse(y_val, y_pred), 2)}')"
   ]
  },
  {
   "cell_type": "code",
   "execution_count": 631,
   "id": "c9706843",
   "metadata": {},
   "outputs": [
    {
     "name": "stdout",
     "output_type": "stream",
     "text": [
      "r=0: 0.5173782638841655\n",
      "r=0.01: 0.517111552576255\n",
      "r=0.1: 0.5187525130701096\n",
      "r=1: 0.5222348802092595\n",
      "r=5: 0.522891609282353\n",
      "r=10: 0.5229812979636556\n",
      "r=100: 0.5230636233819932\n",
      "\n",
      "Ranked by RMSE:\n",
      "r=0.01: 0.517111552576255\n",
      "r=0: 0.5173782638841655\n",
      "r=0.1: 0.5187525130701096\n",
      "r=1: 0.5222348802092595\n",
      "r=5: 0.522891609282353\n",
      "r=10: 0.5229812979636556\n",
      "r=100: 0.5230636233819932\n"
     ]
    }
   ],
   "source": [
    "# Question 4 - Find best R value\n",
    "\n",
    "rs = [0, 0.01, 0.1, 1, 5, 10, 100]\n",
    "\n",
    "def train_linear_regression_reg(df, target: str='fuel_efficiency_mpg', r: int=0.01):\n",
    "    X = df.drop(columns=[target]).values\n",
    "    y = df[target].values\n",
    "\n",
    "    ones = np.ones(X.shape[0])\n",
    "    X = np.column_stack([ones, X])\n",
    "\n",
    "    XTX = X.T.dot(X)\n",
    "    XTX_reg = XTX + r * np.eye(XTX.shape[0])\n",
    "    XTX_inv = np.linalg.inv(XTX_reg)\n",
    "\n",
    "    # W = (Xᵀ  · X)⁻¹ · Xᵀ  · y\n",
    "    w_full = XTX_inv.dot(X.T).dot(y) \n",
    "    return w_full[0], w_full[1:]\n",
    "\n",
    "\n",
    "results = []\n",
    "for r in rs:\n",
    "    # train model\n",
    "    w0, w = train_linear_regression_reg(df_zero_train, r=r)\n",
    "\n",
    "    y_val = df_zero_val['fuel_efficiency_mpg'].values\n",
    "    y_pred = pred(w0=w0,w=w,df=df_zero_val)\n",
    "\n",
    "    error = rmse(y_val, y_pred)\n",
    "    results.append((r, error))\n",
    "    print(f'r={r}: {error}')\n",
    "\n",
    "# Sort by RMSE (lowest first)\n",
    "results.sort(key=lambda x: x[1])\n",
    "print(\"\\nRanked by RMSE:\")\n",
    "for r, error in results:\n",
    "    print(f'r={r}: {error}')"
   ]
  },
  {
   "cell_type": "code",
   "execution_count": 632,
   "id": "0d82411e",
   "metadata": {},
   "outputs": [],
   "source": [
    "#Question 5 - See how different seeds affect rmse distribution\n",
    "\n",
    "seeds = [0, 1, 2, 3, 4, 5, 6, 7, 8, 9]"
   ]
  },
  {
   "cell_type": "code",
   "execution_count": 633,
   "id": "9d212eb7",
   "metadata": {},
   "outputs": [
    {
     "name": "stdout",
     "output_type": "stream",
     "text": [
      "0: 0.5206531296280095\n",
      "1: 0.5213388912854027\n",
      "2: 0.5228069974702906\n",
      "3: 0.5159516741065056\n",
      "4: 0.5109129460122063\n",
      "5: 0.5283406459953643\n",
      "6: 0.5313910658172253\n",
      "7: 0.5090670387375617\n",
      "8: 0.5147399129158974\n",
      "9: 0.5131865908294857\n",
      "Standard deviation: 0.007\n"
     ]
    }
   ],
   "source": [
    "results = {}\n",
    "\n",
    "for seed in seeds:\n",
    "    df_train, df_val, df_test = split(df.fillna(0), seed)\n",
    "\n",
    "    # train model\n",
    "    w0, w = train_linear_regression(df_train)\n",
    "\n",
    "    y_pred = pred(w0=w0,w=w,df=df_val)\n",
    "    y_val = df_val['fuel_efficiency_mpg'].values\n",
    "\n",
    "    results[seed] = rmse(y_val, y_pred)\n",
    "\n",
    "for seed, error in results.items():\n",
    "    print(f'{seed}: {error}')\n",
    "\n",
    "std = np.std(list(results.values()))\n",
    "print(f'Standard deviation: {round(std, 3)}')"
   ]
  },
  {
   "cell_type": "code",
   "execution_count": 634,
   "id": "91497530",
   "metadata": {},
   "outputs": [
    {
     "data": {
      "text/plain": [
       "np.float64(0.5156261299166541)"
      ]
     },
     "execution_count": 634,
     "metadata": {},
     "output_type": "execute_result"
    }
   ],
   "source": [
    "# Question 6 - seed=9, fillna(0), r=0.001 - get rmse\n",
    "\n",
    "df_train, df_val, df_test = split(df.fillna(0), 9)\n",
    "\n",
    "df_combined = pd.concat([df_train, df_val])\n",
    "\n",
    "w0, w = train_linear_regression_reg(df_combined,r=0.001)\n",
    "\n",
    "y_pred = pred(w0=w0,w=w,df=df_test)\n",
    "y_val = df_test['fuel_efficiency_mpg'].values\n",
    "\n",
    "rmse(y_val, y_pred)"
   ]
  },
  {
   "cell_type": "code",
   "execution_count": null,
   "id": "4b7865c9",
   "metadata": {},
   "outputs": [],
   "source": []
  }
 ],
 "metadata": {
  "kernelspec": {
   "display_name": ".venv",
   "language": "python",
   "name": "python3"
  },
  "language_info": {
   "codemirror_mode": {
    "name": "ipython",
    "version": 3
   },
   "file_extension": ".py",
   "mimetype": "text/x-python",
   "name": "python",
   "nbconvert_exporter": "python",
   "pygments_lexer": "ipython3",
   "version": "3.12.11"
  }
 },
 "nbformat": 4,
 "nbformat_minor": 5
}
