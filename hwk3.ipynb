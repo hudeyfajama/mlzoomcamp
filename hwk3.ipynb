{
 "cells": [
  {
   "cell_type": "code",
   "execution_count": 456,
   "id": "85ee489f",
   "metadata": {},
   "outputs": [],
   "source": [
    "import pandas as pd\n",
    "import numpy as np\n",
    "import seaborn as sns\n",
    "import matplotlib.pyplot as plt\n",
    "%matplotlib inline"
   ]
  },
  {
   "cell_type": "code",
   "execution_count": 457,
   "id": "0704a32e",
   "metadata": {},
   "outputs": [
    {
     "name": "stdout",
     "output_type": "stream",
     "text": [
      "(1462, 9)\n"
     ]
    },
    {
     "data": {
      "text/html": [
       "<div>\n",
       "<style scoped>\n",
       "    .dataframe tbody tr th:only-of-type {\n",
       "        vertical-align: middle;\n",
       "    }\n",
       "\n",
       "    .dataframe tbody tr th {\n",
       "        vertical-align: top;\n",
       "    }\n",
       "\n",
       "    .dataframe thead th {\n",
       "        text-align: right;\n",
       "    }\n",
       "</style>\n",
       "<table border=\"1\" class=\"dataframe\">\n",
       "  <thead>\n",
       "    <tr style=\"text-align: right;\">\n",
       "      <th></th>\n",
       "      <th>lead_source</th>\n",
       "      <th>industry</th>\n",
       "      <th>number_of_courses_viewed</th>\n",
       "      <th>annual_income</th>\n",
       "      <th>employment_status</th>\n",
       "      <th>location</th>\n",
       "      <th>interaction_count</th>\n",
       "      <th>lead_score</th>\n",
       "      <th>converted</th>\n",
       "    </tr>\n",
       "  </thead>\n",
       "  <tbody>\n",
       "    <tr>\n",
       "      <th>0</th>\n",
       "      <td>paid_ads</td>\n",
       "      <td>NaN</td>\n",
       "      <td>1</td>\n",
       "      <td>79450.0</td>\n",
       "      <td>unemployed</td>\n",
       "      <td>south_america</td>\n",
       "      <td>4</td>\n",
       "      <td>0.94</td>\n",
       "      <td>1</td>\n",
       "    </tr>\n",
       "    <tr>\n",
       "      <th>1</th>\n",
       "      <td>social_media</td>\n",
       "      <td>retail</td>\n",
       "      <td>1</td>\n",
       "      <td>46992.0</td>\n",
       "      <td>employed</td>\n",
       "      <td>south_america</td>\n",
       "      <td>1</td>\n",
       "      <td>0.80</td>\n",
       "      <td>0</td>\n",
       "    </tr>\n",
       "    <tr>\n",
       "      <th>2</th>\n",
       "      <td>events</td>\n",
       "      <td>healthcare</td>\n",
       "      <td>5</td>\n",
       "      <td>78796.0</td>\n",
       "      <td>unemployed</td>\n",
       "      <td>australia</td>\n",
       "      <td>3</td>\n",
       "      <td>0.69</td>\n",
       "      <td>1</td>\n",
       "    </tr>\n",
       "    <tr>\n",
       "      <th>3</th>\n",
       "      <td>paid_ads</td>\n",
       "      <td>retail</td>\n",
       "      <td>2</td>\n",
       "      <td>83843.0</td>\n",
       "      <td>NaN</td>\n",
       "      <td>australia</td>\n",
       "      <td>1</td>\n",
       "      <td>0.87</td>\n",
       "      <td>0</td>\n",
       "    </tr>\n",
       "    <tr>\n",
       "      <th>4</th>\n",
       "      <td>referral</td>\n",
       "      <td>education</td>\n",
       "      <td>3</td>\n",
       "      <td>85012.0</td>\n",
       "      <td>self_employed</td>\n",
       "      <td>europe</td>\n",
       "      <td>3</td>\n",
       "      <td>0.62</td>\n",
       "      <td>1</td>\n",
       "    </tr>\n",
       "  </tbody>\n",
       "</table>\n",
       "</div>"
      ],
      "text/plain": [
       "    lead_source    industry  number_of_courses_viewed  annual_income  \\\n",
       "0      paid_ads         NaN                         1        79450.0   \n",
       "1  social_media      retail                         1        46992.0   \n",
       "2        events  healthcare                         5        78796.0   \n",
       "3      paid_ads      retail                         2        83843.0   \n",
       "4      referral   education                         3        85012.0   \n",
       "\n",
       "  employment_status       location  interaction_count  lead_score  converted  \n",
       "0        unemployed  south_america                  4        0.94          1  \n",
       "1          employed  south_america                  1        0.80          0  \n",
       "2        unemployed      australia                  3        0.69          1  \n",
       "3               NaN      australia                  1        0.87          0  \n",
       "4     self_employed         europe                  3        0.62          1  "
      ]
     },
     "execution_count": 457,
     "metadata": {},
     "output_type": "execute_result"
    }
   ],
   "source": [
    "df = pd.read_csv('https://raw.githubusercontent.com/alexeygrigorev/datasets/master/course_lead_scoring.csv')\n",
    "\n",
    "print(df.shape)\n",
    "df.head()"
   ]
  },
  {
   "cell_type": "code",
   "execution_count": 458,
   "id": "85dd2d43",
   "metadata": {},
   "outputs": [
    {
     "data": {
      "text/plain": [
       "lead_source                 0\n",
       "industry                    0\n",
       "number_of_courses_viewed    0\n",
       "annual_income               0\n",
       "employment_status           0\n",
       "location                    0\n",
       "interaction_count           0\n",
       "lead_score                  0\n",
       "converted                   0\n",
       "dtype: int64"
      ]
     },
     "execution_count": 458,
     "metadata": {},
     "output_type": "execute_result"
    }
   ],
   "source": [
    "categorical = list(df.dtypes[df.dtypes == 'object'].index)\n",
    "numerical = list(df.dtypes[(df.dtypes == 'int64') | (df.dtypes == 'float64')].index)\n",
    "\n",
    "all_features = categorical + numerical\n",
    "\n",
    "df[categorical] = df[categorical].fillna('NA')\n",
    "df[numerical] = df[numerical].fillna(0.0)\n",
    "\n",
    "df.isnull().sum()"
   ]
  },
  {
   "cell_type": "code",
   "execution_count": 459,
   "id": "7c01b3f5",
   "metadata": {},
   "outputs": [
    {
     "data": {
      "text/plain": [
       "0    retail\n",
       "Name: industry, dtype: object"
      ]
     },
     "execution_count": 459,
     "metadata": {},
     "output_type": "execute_result"
    }
   ],
   "source": [
    "# Question 1\n",
    "df['industry'].mode()"
   ]
  },
  {
   "cell_type": "code",
   "execution_count": 460,
   "id": "04f1bf5e",
   "metadata": {},
   "outputs": [
    {
     "name": "stdout",
     "output_type": "stream",
     "text": [
      "interaction_count vs annual_income: 0.0270\n",
      "number_of_courses_viewed vs interaction_count: 0.0236\n",
      "interaction_count vs lead_score: 0.0099\n",
      "number_of_courses_viewed vs lead_score: 0.0049\n"
     ]
    }
   ],
   "source": [
    "# Question 2\n",
    "\n",
    "results = {}\n",
    "\n",
    "results['interaction_count vs lead_score'] = df[numerical].corrwith(df['interaction_count']).abs()['lead_score']\n",
    "results['interaction_count vs annual_income'] = df[numerical].corrwith(df['interaction_count']).abs()['annual_income']\n",
    "results['number_of_courses_viewed vs lead_score'] = df[numerical].corrwith(df['number_of_courses_viewed']).abs()['lead_score']\n",
    "results['number_of_courses_viewed vs interaction_count'] = df[numerical].corrwith(df['number_of_courses_viewed']).abs()['interaction_count']\n",
    "\n",
    "# Sort and display\n",
    "for key, value in sorted(results.items(), key=lambda item: item[1], reverse=True):\n",
    "    print(f\"{key}: {value:.4f}\")"
   ]
  },
  {
   "cell_type": "code",
   "execution_count": 461,
   "id": "c18a8863",
   "metadata": {},
   "outputs": [],
   "source": [
    "# Question 3\n",
    "\n",
    "# Split dataset and remove target y\n",
    "\n",
    "from sklearn.model_selection import train_test_split\n",
    "\n",
    "df_full_train, df_test = train_test_split(df, test_size=0.2, random_state=42)\n",
    "df_train, df_val = train_test_split(df_full_train, test_size=0.25, random_state=42)\n",
    "\n",
    "df_train = df_train.reset_index(drop=True)\n",
    "df_val = df_val.reset_index(drop=True)\n",
    "df_test = df_test.reset_index(drop=True)\n",
    "\n",
    "# Set the target: y\n",
    "target = 'converted'\n",
    "\n",
    "def prepare_y(df_train, df_val, df_test, target):\n",
    "    y_train = df_train[target].values\n",
    "    y_val = df_val[target].values\n",
    "    y_test = df_test[target].values\n",
    "\n",
    "    del df_train[target]\n",
    "    del df_val[target]\n",
    "    del df_test[target]\n",
    "\n",
    "    return y_train, y_val, y_test\n",
    "\n",
    "y_train, y_val, y_test = prepare_y(df_train, df_val, df_test, target)\n"
   ]
  },
  {
   "cell_type": "code",
   "execution_count": 462,
   "id": "035d1a10",
   "metadata": {},
   "outputs": [
    {
     "name": "stdout",
     "output_type": "stream",
     "text": [
      "lead_source: 0.04\n",
      "industry: 0.01\n",
      "employment_status: 0.01\n",
      "location: 0.0\n"
     ]
    }
   ],
   "source": [
    "# Determine mutual information\n",
    "from sklearn.metrics import mutual_info_score\n",
    "\n",
    "for c in categorical:\n",
    "    print(f'{c}: {round(mutual_info_score(y_train, df_train[c]), 2)}')"
   ]
  },
  {
   "cell_type": "code",
   "execution_count": 463,
   "id": "1ba1b458",
   "metadata": {},
   "outputs": [],
   "source": [
    "# Question 4\n",
    "\n",
    "# One hot encoding categorical features\n",
    "\n",
    "from sklearn.feature_extraction import DictVectorizer\n",
    "\n",
    "numerical = [col for col in numerical if col != 'converted']\n",
    "\n",
    "dv = DictVectorizer(sparse=False)\n",
    "\n",
    "train_dict = df_train.to_dict(orient='records')\n",
    "X_train = dv.fit_transform(train_dict)\n",
    "\n",
    "val_dict = df_val.to_dict(orient='records')\n",
    "X_val = dv.transform(val_dict)"
   ]
  },
  {
   "cell_type": "code",
   "execution_count": 464,
   "id": "d66b8f21",
   "metadata": {},
   "outputs": [
    {
     "name": "stdout",
     "output_type": "stream",
     "text": [
      "0.7\n"
     ]
    }
   ],
   "source": [
    "# Logistic Regression\n",
    "\n",
    "from sklearn.linear_model import LogisticRegression\n",
    "\n",
    "q4_model = LogisticRegression(solver='liblinear', C=1.0, max_iter=1000, random_state=42)\n",
    "\n",
    "q4_model.fit(X_train, y_train)\n",
    "\n",
    "y_pred = q4_model.predict_proba(X_val)[:, 1]\n",
    "\n",
    "target_decision = (y_pred >= 0.5)\n",
    "\n",
    "original_accuracy = (y_val == target_decision).mean()\n",
    "print(round(original_accuracy,2))"
   ]
  },
  {
   "cell_type": "code",
   "execution_count": 465,
   "id": "fc3f51ee",
   "metadata": {},
   "outputs": [],
   "source": [
    "# Question 5\n",
    "\n",
    "model = LogisticRegression(solver='liblinear', C=1.0, max_iter=1000, random_state=42)\n",
    "\n",
    "# Set the target: y\n",
    "target = 'converted'\n",
    "\n",
    "def prepare(df, target):\n",
    "    df_full_train, df_test = train_test_split(df, test_size=0.2, random_state=42)\n",
    "    df_train, df_val = train_test_split(df_full_train, test_size=0.25, random_state=42)\n",
    "\n",
    "    df_train = df_train.reset_index(drop=True)\n",
    "    df_val = df_val.reset_index(drop=True)\n",
    "    df_test = df_test.reset_index(drop=True)\n",
    "\n",
    "    y_train = df_train[target].values\n",
    "    y_val = df_val[target].values\n",
    "    y_test = df_test[target].values\n",
    "\n",
    "    del df_train[target]\n",
    "    del df_val[target]\n",
    "    del df_test[target]\n",
    "\n",
    "    return y_train, y_val, y_test, df_train, df_val, df_test, df_full_train\n"
   ]
  },
  {
   "cell_type": "code",
   "execution_count": 466,
   "id": "e5a0400d",
   "metadata": {},
   "outputs": [
    {
     "name": "stdout",
     "output_type": "stream",
     "text": [
      "lead_source removed: 0.7030716723549488, delta: 0.0034129692832765013\n",
      "industry removed: 0.6996587030716723, delta: 0.0\n",
      "employment_status removed: 0.6962457337883959, delta: 0.0034129692832763903\n",
      "location removed: 0.7098976109215017, delta: 0.010238907849829393\n",
      "number_of_courses_viewed removed: 0.5563139931740614, delta: 0.14334470989761094\n",
      "annual_income removed: 0.8532423208191127, delta: 0.15358361774744034\n",
      "interaction_count removed: 0.5563139931740614, delta: 0.14334470989761094\n",
      "lead_score removed: 0.7064846416382252, delta: 0.0068259385665528916\n"
     ]
    }
   ],
   "source": [
    "for f in all_features:\n",
    "    features = [col for col in all_features if col != f]\n",
    "\n",
    "    df_features = df[features]\n",
    "\n",
    "    if target != f:\n",
    "        y_train, y_val, y_test, df_train, df_val, df_test, df_full_train = prepare(df_features, target)\n",
    "\n",
    "\n",
    "        dv = DictVectorizer(sparse=False)\n",
    "\n",
    "        train_dict = df_train.to_dict(orient='records')\n",
    "        X_train = dv.fit_transform(train_dict)\n",
    "\n",
    "        val_dict = df_val.to_dict(orient='records')\n",
    "        X_val = dv.transform(val_dict)\n",
    "\n",
    "        model = LogisticRegression(solver='liblinear', C=1.0, max_iter=1000, random_state=42)\n",
    "        model.fit(X_train, y_train)\n",
    "        y_pred = model.predict_proba(X_val)[:, 1]\n",
    "\n",
    "        target_decision = (y_pred >= 0.5)\n",
    "\n",
    "        accuracy = (y_val == target_decision).mean()\n",
    "        \n",
    "        print(f'{f} removed: {accuracy}, delta: {abs(original_accuracy - accuracy)}')"
   ]
  },
  {
   "cell_type": "code",
   "execution_count": 467,
   "id": "258c720c",
   "metadata": {},
   "outputs": [
    {
     "name": "stdout",
     "output_type": "stream",
     "text": [
      "100: 0.7\n",
      "100: 0.7\n",
      "100: 0.7\n",
      "100: 0.7\n",
      "100: 0.7\n"
     ]
    }
   ],
   "source": [
    "# Question 6\n",
    "\n",
    "cs = [0.01, 0.1, 1, 10, 100]\n",
    "\n",
    "# Load and prepare the data\n",
    "df = pd.read_csv('https://raw.githubusercontent.com/alexeygrigorev/datasets/master/course_lead_scoring.csv')\n",
    "\n",
    "# Fill missing values\n",
    "categorical = list(df.dtypes[df.dtypes == 'object'].index)\n",
    "numerical = list(df.dtypes[(df.dtypes == 'int64') | (df.dtypes == 'float64')].index)\n",
    "\n",
    "df[categorical] = df[categorical].fillna('NA')\n",
    "df[numerical] = df[numerical].fillna(0.0)\n",
    "\n",
    "# Split the data\n",
    "df_full_train, df_test = train_test_split(df, test_size=0.2, random_state=42)\n",
    "df_train, df_val = train_test_split(df_full_train, test_size=0.25, random_state=42)\n",
    "\n",
    "df_train = df_train.reset_index(drop=True)\n",
    "df_val = df_val.reset_index(drop=True)\n",
    "df_test = df_test.reset_index(drop=True)\n",
    "\n",
    "# Extract target FIRST\n",
    "target = 'converted'\n",
    "y_train = df_train[target].values\n",
    "y_val = df_val[target].values\n",
    "y_test = df_test[target].values\n",
    "\n",
    "# Remove target from dataframes\n",
    "df_train = df_train.drop(columns=[target])\n",
    "df_val = df_val.drop(columns=[target])\n",
    "df_test = df_test.drop(columns=[target])\n",
    "\n",
    "# One-hot encode\n",
    "dv = DictVectorizer(sparse=False)\n",
    "\n",
    "train_dict = df_train.to_dict(orient='records')\n",
    "X_train = dv.fit_transform(train_dict)\n",
    "\n",
    "val_dict = df_val.to_dict(orient='records')\n",
    "X_val = dv.transform(val_dict)\n",
    "\n",
    "# Train models with different C values\n",
    "for c in cs:\n",
    "   model = LogisticRegression(solver='liblinear', C=r, max_iter=1000, random_state=42)\n",
    "   model.fit(X_train, y_train)\n",
    "\n",
    "   y_pred = model.predict_proba(X_val)[:, 1]\n",
    "\n",
    "   target_decision = (y_pred >= 0.5)\n",
    "\n",
    "   accuracy = (y_val == target_decision).mean()\n",
    "   print(f'{r}: {round(accuracy, 3)}')"
   ]
  },
  {
   "cell_type": "code",
   "execution_count": null,
   "id": "87ed0d8d",
   "metadata": {},
   "outputs": [],
   "source": []
  }
 ],
 "metadata": {
  "kernelspec": {
   "display_name": ".venv",
   "language": "python",
   "name": "python3"
  },
  "language_info": {
   "codemirror_mode": {
    "name": "ipython",
    "version": 3
   },
   "file_extension": ".py",
   "mimetype": "text/x-python",
   "name": "python",
   "nbconvert_exporter": "python",
   "pygments_lexer": "ipython3",
   "version": "3.12.11"
  }
 },
 "nbformat": 4,
 "nbformat_minor": 5
}
